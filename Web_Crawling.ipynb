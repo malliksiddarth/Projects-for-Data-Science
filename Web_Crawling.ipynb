{
  "nbformat": 4,
  "nbformat_minor": 0,
  "metadata": {
    "colab": {
      "name": "Web_Crawling.ipynb",
      "provenance": [],
      "collapsed_sections": []
    },
    "kernelspec": {
      "name": "python3",
      "display_name": "Python 3"
    },
    "language_info": {
      "name": "python"
    }
  },
  "cells": [
    {
      "cell_type": "code",
      "source": [
        "from google.colab import drive\n",
        "drive.mount('/content/gdrive')\n"
      ],
      "metadata": {
        "colab": {
          "base_uri": "https://localhost:8080/"
        },
        "id": "BHPwJN9-ILdv",
        "outputId": "75ac1184-bd70-4cd9-ba1c-68e06ed0603f"
      },
      "execution_count": null,
      "outputs": [
        {
          "output_type": "stream",
          "name": "stdout",
          "text": [
            "Drive already mounted at /content/gdrive; to attempt to forcibly remount, call drive.mount(\"/content/gdrive\", force_remount=True).\n"
          ]
        }
      ]
    },
    {
      "cell_type": "code",
      "source": [
        "from bs4 import BeautifulSoup as bs\n",
        "web_crawl = '/content/gdrive/My Drive/web_crawl1.html'\n",
        "web_crawl = open(web_crawl, \"r\")"
      ],
      "metadata": {
        "id": "2ZqD9aP-I54m"
      },
      "execution_count": null,
      "outputs": []
    },
    {
      "cell_type": "code",
      "execution_count": null,
      "metadata": {
        "colab": {
          "base_uri": "https://localhost:8080/"
        },
        "id": "V8nUWFvjG6wO",
        "outputId": "673c6eae-b667-402b-cfc9-efd44afb31c8"
      },
      "outputs": [
        {
          "output_type": "stream",
          "name": "stdout",
          "text": [
            "University Name \t \t \t Student Count\n",
            "Carnegie Mellon University \t \t 7,073(fall 2020)\n",
            "Massachusetts Institute of Technology \t \t 4,361(fall 2020)\n",
            "Stanford University \t \t 6,366(fall 2020)\n",
            "University of California--Berkeley \t \t 30,980(fall 2020)\n",
            "Cornell University \t \t 14,743(fall 2020)\n",
            "Georgia Institute of Technology \t \t 16,561(fall 2020)\n",
            "University of Illinois--Urbana-Champaign \t \t 33,683(fall 2020)\n",
            "California Institute of Technology \t \t 901(fall 2020)\n",
            "Princeton University \t \t 4,773(fall 2020)\n",
            "University of California--Los Angeles \t \t 31,636(fall 2020)\n",
            "University of Texas at Austin \t \t 40,048(fall 2020)\n",
            "University of Washington \t \t 35,582(fall 2020)\n",
            "Abilene Christian University \t \t 3,494(fall 2020)\n",
            "Alabama A&M University \t \t 5,093(fall 2020)\n",
            "Alabama State University \t \t 3,614(fall 2020)\n",
            "Amherst College \t \t 1,745(fall 2020)\n",
            "Appalachian State University \t \t 18,061(fall 2020)\n",
            "Arizona State University \t \t 63,124(fall 2020)\n",
            "Arkansas Tech University \t \t 10,110(fall 2020)\n",
            "Auburn University \t \t 24,505(fall 2020)\n"
          ]
        }
      ],
      "source": [
        "from urllib.request import urlopen as uReq\n",
        "\n",
        "flipkart_html = bs(web_crawl, \"html.parser\") # parsing the webpage as HTML\n",
        "bigboxes = flipkart_html.findAll(\"div\", {\"class\": \"Box-w0dun1-0 ggHDDx\"})\n",
        "smallboxes = flipkart_html.findAll(\"dd\", {\"class\": \"QuickStatHug__Description-hb1bl8-1 eXguFl2\"})\n",
        "\n",
        "clg = []\n",
        "stu = []\n",
        "print(\"University Name\",'\\t', '\\t','\\t',\"Student Count\")\n",
        "for item in bigboxes:\n",
        "  clg.append(item.a.text)\n",
        "for entry in smallboxes:\n",
        "  stu.append(entry.text)\n",
        "#for i in range(0,len(smallboxes)):\n",
        "#  stu.append(smallboxes[i].text)\n",
        "for i in range(len(clg)):\n",
        "  print(clg[i],'\\t','\\t', stu[i])"
      ]
    },
    {
      "cell_type": "code",
      "source": [
        ""
      ],
      "metadata": {
        "id": "qbJRCYg6HEkt"
      },
      "execution_count": null,
      "outputs": []
    }
  ]
}