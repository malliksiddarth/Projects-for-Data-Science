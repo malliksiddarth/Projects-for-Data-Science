{
  "nbformat": 4,
  "nbformat_minor": 0,
  "metadata": {
    "colab": {
      "name": "Untitled1.ipynb",
      "provenance": [],
      "collapsed_sections": []
    },
    "kernelspec": {
      "name": "python3",
      "display_name": "Python 3"
    },
    "language_info": {
      "name": "python"
    }
  },
  "cells": [
    {
      "cell_type": "code",
      "execution_count": null,
      "metadata": {
        "id": "7LK7WuxSE5bF"
      },
      "outputs": [],
      "source": [
        "import requests\n",
        "import lxml as lx\n",
        "from bs4 import BeautifulSoup"
      ]
    },
    {
      "cell_type": "code",
      "source": [
        "link = 'https://cs.brown.edu/people/apapouts/faculty_dataset.html'\n",
        "L=requests.get(link)"
      ],
      "metadata": {
        "id": "QjeAWrCqFDor"
      },
      "execution_count": null,
      "outputs": []
    },
    {
      "cell_type": "code",
      "source": [
        "school=[]\n",
        "\n",
        "BS= BeautifulSoup(L.content,'lxml')\n",
        "schl= BS.findAll('table', {\"class\":\"table table-condensed table-striped\"})\n",
        "x = []\n",
        "\n",
        "for item in schl[3].find_all(\"tr\"):#.find_all(\"th\"):\n",
        "  x.append(item.get_text())\n",
        "print(x)\n",
        "for item in x:\n",
        "  print(item.replace(\"\\n\",\"\\t\\t\\t\"))\n",
        "  #print(item)"
      ],
      "metadata": {
        "colab": {
          "base_uri": "https://localhost:8080/"
        },
        "id": "spoD3JQnNBgj",
        "outputId": "2ad66321-d1e1-4f4e-8fb1-8d942a35e9c4"
      },
      "execution_count": null,
      "outputs": [
        {
          "output_type": "stream",
          "name": "stdout",
          "text": [
            "['\\nUniversity\\nSize (in faculty)\\n', '\\nCarnegie Mellon University\\n131\\n', '\\nGeorgia Institute of Technology\\n93\\n', '\\nMassachusetts Institute of Technology\\n80\\n', '\\nUniversity of California - Irvine\\n61\\n', '\\nUniversity of Maryland - College Park\\n60\\n', '\\nUniversity of Michigan\\n59\\n', '\\nNorthwestern University\\n59\\n', '\\nUniversity of California - San Diego\\n57\\n', '\\nUniversity of Illinois at Urbana-Champaign\\n57\\n', '\\nUniversity of California - Berkeley\\n54\\n', '\\nUniversity of Southern California\\n54\\n', '\\nDuke University\\n52\\n', '\\nStanford University\\n52\\n', '\\nUniversity of Washington\\n49\\n', '\\nColumbia University\\n48\\n', '\\nPurdue University\\n48\\n', '\\nNorth Carolina State University\\n47\\n', '\\nUniversity of Utah\\n45\\n', '\\nTexas A&M University\\n42\\n', '\\nUniversity of Florida\\n40\\n', '\\nUniversity of California - Los Angeles\\n40\\n', '\\nVirginia Polytechnic Institute and State University\\n39\\n', '\\nUniversity of Colorado Boulder\\n39\\n', '\\nRutgers - State University of New Jersey - New Brunswick\\n39\\n', '\\nOhio State University\\n38\\n', '\\nUniversity of Wisconsin - Madison\\n38\\n', '\\nUniversity of Texas - Austin\\n38\\n', '\\nNew York University\\n37\\n', '\\nUniversity of Massachusetts - Amherst\\n37\\n', '\\nState University of New York - Stony Brook\\n36\\n', '\\nCornell University\\n36\\n', '\\nUniversity of Minnesota - Twin Cities\\n34\\n', '\\nPennsylvania State University\\n33\\n', '\\nUniversity of California - Santa Barbara\\n32\\n', '\\nPrinceton University\\n32\\n', '\\nUniversity of North Carolina - Chapel Hill\\n31\\n', '\\nUniversity of California - Davis\\n31\\n', '\\nUniversity of Pennsylvania\\n31\\n', '\\nBrown University\\n30\\n', '\\nUniversity of Chicago\\n29\\n', '\\nJohns Hopkins University\\n29\\n', '\\nRensselaer Polytechnic Institute\\n29\\n', '\\nHarvard University\\n25\\n', '\\nUniversity of Virginia\\n23\\n', '\\nArizona State University\\n23\\n', '\\nWashington University - St. Louis\\n21\\n', '\\nUniversity of Rochester\\n20\\n', '\\nYale University\\n20\\n', '\\nUniversity of Pittsburgh\\n20\\n', '\\nRice University\\n20\\n', '\\nBoston University\\n19\\n', '\\nUniversity of Arizona\\n18\\n', '\\nCalifornia Institute of Technology\\n15\\n', '\\nDartmouth College\\n12\\n']\n",
            "\t\t\tUniversity\t\t\tSize (in faculty)\t\t\t\n",
            "\t\t\tCarnegie Mellon University\t\t\t131\t\t\t\n",
            "\t\t\tGeorgia Institute of Technology\t\t\t93\t\t\t\n",
            "\t\t\tMassachusetts Institute of Technology\t\t\t80\t\t\t\n",
            "\t\t\tUniversity of California - Irvine\t\t\t61\t\t\t\n",
            "\t\t\tUniversity of Maryland - College Park\t\t\t60\t\t\t\n",
            "\t\t\tUniversity of Michigan\t\t\t59\t\t\t\n",
            "\t\t\tNorthwestern University\t\t\t59\t\t\t\n",
            "\t\t\tUniversity of California - San Diego\t\t\t57\t\t\t\n",
            "\t\t\tUniversity of Illinois at Urbana-Champaign\t\t\t57\t\t\t\n",
            "\t\t\tUniversity of California - Berkeley\t\t\t54\t\t\t\n",
            "\t\t\tUniversity of Southern California\t\t\t54\t\t\t\n",
            "\t\t\tDuke University\t\t\t52\t\t\t\n",
            "\t\t\tStanford University\t\t\t52\t\t\t\n",
            "\t\t\tUniversity of Washington\t\t\t49\t\t\t\n",
            "\t\t\tColumbia University\t\t\t48\t\t\t\n",
            "\t\t\tPurdue University\t\t\t48\t\t\t\n",
            "\t\t\tNorth Carolina State University\t\t\t47\t\t\t\n",
            "\t\t\tUniversity of Utah\t\t\t45\t\t\t\n",
            "\t\t\tTexas A&M University\t\t\t42\t\t\t\n",
            "\t\t\tUniversity of Florida\t\t\t40\t\t\t\n",
            "\t\t\tUniversity of California - Los Angeles\t\t\t40\t\t\t\n",
            "\t\t\tVirginia Polytechnic Institute and State University\t\t\t39\t\t\t\n",
            "\t\t\tUniversity of Colorado Boulder\t\t\t39\t\t\t\n",
            "\t\t\tRutgers - State University of New Jersey - New Brunswick\t\t\t39\t\t\t\n",
            "\t\t\tOhio State University\t\t\t38\t\t\t\n",
            "\t\t\tUniversity of Wisconsin - Madison\t\t\t38\t\t\t\n",
            "\t\t\tUniversity of Texas - Austin\t\t\t38\t\t\t\n",
            "\t\t\tNew York University\t\t\t37\t\t\t\n",
            "\t\t\tUniversity of Massachusetts - Amherst\t\t\t37\t\t\t\n",
            "\t\t\tState University of New York - Stony Brook\t\t\t36\t\t\t\n",
            "\t\t\tCornell University\t\t\t36\t\t\t\n",
            "\t\t\tUniversity of Minnesota - Twin Cities\t\t\t34\t\t\t\n",
            "\t\t\tPennsylvania State University\t\t\t33\t\t\t\n",
            "\t\t\tUniversity of California - Santa Barbara\t\t\t32\t\t\t\n",
            "\t\t\tPrinceton University\t\t\t32\t\t\t\n",
            "\t\t\tUniversity of North Carolina - Chapel Hill\t\t\t31\t\t\t\n",
            "\t\t\tUniversity of California - Davis\t\t\t31\t\t\t\n",
            "\t\t\tUniversity of Pennsylvania\t\t\t31\t\t\t\n",
            "\t\t\tBrown University\t\t\t30\t\t\t\n",
            "\t\t\tUniversity of Chicago\t\t\t29\t\t\t\n",
            "\t\t\tJohns Hopkins University\t\t\t29\t\t\t\n",
            "\t\t\tRensselaer Polytechnic Institute\t\t\t29\t\t\t\n",
            "\t\t\tHarvard University\t\t\t25\t\t\t\n",
            "\t\t\tUniversity of Virginia\t\t\t23\t\t\t\n",
            "\t\t\tArizona State University\t\t\t23\t\t\t\n",
            "\t\t\tWashington University - St. Louis\t\t\t21\t\t\t\n",
            "\t\t\tUniversity of Rochester\t\t\t20\t\t\t\n",
            "\t\t\tYale University\t\t\t20\t\t\t\n",
            "\t\t\tUniversity of Pittsburgh\t\t\t20\t\t\t\n",
            "\t\t\tRice University\t\t\t20\t\t\t\n",
            "\t\t\tBoston University\t\t\t19\t\t\t\n",
            "\t\t\tUniversity of Arizona\t\t\t18\t\t\t\n",
            "\t\t\tCalifornia Institute of Technology\t\t\t15\t\t\t\n",
            "\t\t\tDartmouth College\t\t\t12\t\t\t\n"
          ]
        }
      ]
    },
    {
      "cell_type": "code",
      "source": [
        ""
      ],
      "metadata": {
        "id": "ADhvxK4BSU-k"
      },
      "execution_count": null,
      "outputs": []
    }
  ]
}